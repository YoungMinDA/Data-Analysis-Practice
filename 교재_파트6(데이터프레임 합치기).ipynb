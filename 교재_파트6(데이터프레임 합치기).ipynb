{
 "cells": [
  {
   "cell_type": "markdown",
   "id": "1fac50ab",
   "metadata": {},
   "source": [
    "## 데이터프레임 합치기"
   ]
  },
  {
   "cell_type": "code",
   "execution_count": 2,
   "id": "cfb5dd9a",
   "metadata": {},
   "outputs": [],
   "source": [
    "import pandas as pd\n",
    "import numpy as np\n",
    "import seaborn as sns"
   ]
  },
  {
   "cell_type": "markdown",
   "id": "28b08226",
   "metadata": {},
   "source": [
    "#### 데이터프레임 연결(행, 열 이어 붙이기)"
   ]
  },
  {
   "cell_type": "code",
   "execution_count": 3,
   "id": "fe7ab676",
   "metadata": {},
   "outputs": [
    {
     "name": "stdout",
     "output_type": "stream",
     "text": [
      "    a   b   c\n",
      "0  a0  b0  c0\n",
      "1  a1  b1  c1\n",
      "2  a2  b2  c2\n",
      "3  a3  b3  c3 \n",
      "\n",
      "    a   b   c   d\n",
      "0  a2  b2  c2  d2\n",
      "1  a3  b3  c3  d3\n",
      "2  a4  b4  c4  d4\n",
      "3  a5  b5  c5  d5 \n",
      "\n"
     ]
    }
   ],
   "source": [
    "df1 = pd.DataFrame({'a':['a0','a1','a2','a3'],\n",
    "                    'b':['b0','b1','b2','b3'],\n",
    "                    'c':['c0','c1','c2','c3']},\n",
    "                    index=[0,1,2,3])\n",
    "\n",
    "df2 = pd.DataFrame({'a':['a2','a3','a4','a5'],\n",
    "                    'b':['b2','b3','b4','b5'],\n",
    "                    'c':['c2','c3','c4','c5'],\n",
    "                    'd':['d2','d3','d4','d5']},\n",
    "                    index=[0,1,2,3])\n",
    "print(df1, '\\n')\n",
    "print(df2, '\\n')"
   ]
  },
  {
   "cell_type": "code",
   "execution_count": 4,
   "id": "7c3416dc",
   "metadata": {},
   "outputs": [
    {
     "name": "stdout",
     "output_type": "stream",
     "text": [
      "    a   b   c    d\n",
      "0  a0  b0  c0  NaN\n",
      "1  a1  b1  c1  NaN\n",
      "2  a2  b2  c2  NaN\n",
      "3  a3  b3  c3  NaN\n",
      "0  a2  b2  c2   d2\n",
      "1  a3  b3  c3   d3\n",
      "2  a4  b4  c4   d4\n",
      "3  a5  b5  c5   d5 \n",
      "\n"
     ]
    }
   ],
   "source": [
    "# 2개의 데이터프레임을 위 아래 행 방향으로 이어 붙이듯 연결\n",
    "result1 = pd.concat([df1, df2])\n",
    "print(result1, '\\n')"
   ]
  },
  {
   "cell_type": "code",
   "execution_count": 14,
   "id": "870d9e78",
   "metadata": {},
   "outputs": [
    {
     "name": "stdout",
     "output_type": "stream",
     "text": [
      "    a   b   c    d\n",
      "0  a0  b0  c0  NaN\n",
      "1  a1  b1  c1  NaN\n",
      "2  a2  b2  c2  NaN\n",
      "3  a3  b3  c3  NaN\n",
      "4  a2  b2  c2   d2\n",
      "5  a3  b3  c3   d3\n",
      "6  a4  b4  c4   d4\n",
      "7  a5  b5  c5   d5 \n",
      "\n"
     ]
    }
   ],
   "source": [
    "#ignore_index=True 옵션 설정\n",
    "#행 변경\n",
    "result2 = pd.concat([df1,df2], ignore_index=True)\n",
    "print(result2, '\\n')"
   ]
  },
  {
   "cell_type": "code",
   "execution_count": 15,
   "id": "70ddabc9",
   "metadata": {},
   "outputs": [
    {
     "name": "stdout",
     "output_type": "stream",
     "text": [
      "    a   b   c   a   b   c   d\n",
      "0  a0  b0  c0  a2  b2  c2  d2\n",
      "1  a1  b1  c1  a3  b3  c3  d3\n",
      "2  a2  b2  c2  a4  b4  c4  d4\n",
      "3  a3  b3  c3  a5  b5  c5  d5 \n",
      "\n"
     ]
    }
   ],
   "source": [
    "# 2개의 데이터프레임을 좌우 열 방향으로 이어 붙이듯 연결\n",
    "result3 = pd.concat([df1,df2], axis=1)\n",
    "print(result3, '\\n')"
   ]
  },
  {
   "cell_type": "code",
   "execution_count": 16,
   "id": "437c2077",
   "metadata": {},
   "outputs": [
    {
     "name": "stdout",
     "output_type": "stream",
     "text": [
      "    a   b   c   a   b   c   d\n",
      "0  a0  b0  c0  a2  b2  c2  d2\n",
      "1  a1  b1  c1  a3  b3  c3  d3\n",
      "2  a2  b2  c2  a4  b4  c4  d4\n",
      "3  a3  b3  c3  a5  b5  c5  d5 \n",
      "\n"
     ]
    }
   ],
   "source": [
    "# join=inner 옵션 적용하기(교집합)\n",
    "result3_in = pd.concat([df1,df2], axis=1, join='inner')\n",
    "print(result3_in,'\\n')"
   ]
  },
  {
   "cell_type": "code",
   "execution_count": 21,
   "id": "93e0510f",
   "metadata": {},
   "outputs": [
    {
     "name": "stdout",
     "output_type": "stream",
     "text": [
      "    a   b   c\n",
      "0  a0  b0  c0\n",
      "1  a1  b1  c1\n",
      "2  a2  b2  c2\n",
      "3  a3  b3  c3 \n",
      "\n",
      "    a   b   c   d\n",
      "0  a2  b2  c2  d2\n",
      "1  a3  b3  c3  d3\n",
      "2  a4  b4  c4  d4\n",
      "3  a5  b5  c5  d5 \n",
      "\n"
     ]
    }
   ],
   "source": [
    "df1 = pd.DataFrame({'a':['a0','a1','a2','a3'],\n",
    "                    'b':['b0','b1','b2','b3'],\n",
    "                    'c':['c0','c1','c2','c3']},\n",
    "                    index=[0,1,2,3])\n",
    "\n",
    "df2 = pd.DataFrame({'a':['a2','a3','a4','a5'],\n",
    "                    'b':['b2','b3','b4','b5'],\n",
    "                    'c':['c2','c3','c4','c5'],\n",
    "                    'd':['d2','d3','d4','d5']},\n",
    "                    index=[0,1,2,3])\n",
    "print(df1, '\\n')\n",
    "print(df2, '\\n')"
   ]
  },
  {
   "cell_type": "code",
   "execution_count": 22,
   "id": "1e11cc3b",
   "metadata": {},
   "outputs": [
    {
     "name": "stdout",
     "output_type": "stream",
     "text": [
      "    a   b   c   e\n",
      "0  a0  b0  c0  e0\n",
      "1  a1  b1  c1  e1\n",
      "2  a2  b2  c2  e2\n",
      "3  a3  b3  c3  e3 \n",
      "\n",
      "     a    b    c    d    f\n",
      "0   a2   b2   c2   d2  NaN\n",
      "1   a3   b3   c3   d3  NaN\n",
      "2   a4   b4   c4   d4  NaN\n",
      "3   a5   b5   c5   d5   f0\n",
      "4  NaN  NaN  NaN  NaN   f1\n",
      "5  NaN  NaN  NaN  NaN   f2 \n",
      "\n"
     ]
    }
   ],
   "source": [
    "#시리즈 만들기\n",
    "sr1 = pd.Series(['e0','e1','e2','e3'], name='e')\n",
    "sr2 = pd.Series(['f0','f1','f2'], name='f', index=[3,4,5])\n",
    "sr3 = pd.Series(['g0','g1','g2','g3'], name='g')\n",
    "\n",
    "#df1과 .sr1을 좌우 열 방향으로 연결하기\n",
    "result4 = pd.concat([df1,sr1], axis=1)\n",
    "print(result4, '\\n')\n",
    "\n",
    "#df2과 sr2을 좌우 열 방향으로 연결하기\n",
    "result5 = pd.concat([df2,sr2], axis=1, sort=True)\n",
    "print(result5, '\\n')"
   ]
  },
  {
   "cell_type": "code",
   "execution_count": 23,
   "id": "3df19225",
   "metadata": {},
   "outputs": [
    {
     "name": "stdout",
     "output_type": "stream",
     "text": [
      "    e   g\n",
      "0  e0  g0\n",
      "1  e1  g1\n",
      "2  e2  g2\n",
      "3  e3  g3 \n",
      "\n",
      "0    e0\n",
      "1    e1\n",
      "2    e2\n",
      "3    e3\n",
      "0    g0\n",
      "1    g1\n",
      "2    g2\n",
      "3    g3\n",
      "dtype: object \n",
      "\n"
     ]
    }
   ],
   "source": [
    "#sr1과 sr3을 좌우 열 방향 연결하기\n",
    "result6 = pd.concat([sr1,sr3], axis=1)\n",
    "print(result6,'\\n')\n",
    "\n",
    "result7 = pd.concat([sr1,sr3], axis=0)\n",
    "print(result7, '\\n')"
   ]
  },
  {
   "cell_type": "markdown",
   "id": "420027e6",
   "metadata": {},
   "source": [
    "#### 데이터프레임 병합(기준에 의해 병합)"
   ]
  },
  {
   "cell_type": "code",
   "execution_count": 5,
   "id": "ad33ac0a",
   "metadata": {},
   "outputs": [
    {
     "name": "stdout",
     "output_type": "stream",
     "text": [
      "       id    stock_name          value   price\n",
      "0  128940      한미약품   59385.666667  421000\n",
      "1  130960        CJ E&M   58540.666667   98900\n",
      "2  138250    엔에스쇼핑   14558.666667   13200\n",
      "3  139480        이마트  239230.833333  254500\n",
      "4  142280  녹십자엠에스     468.833333   10200\n",
      "5  145990        삼양사   82750.000000   82000\n",
      "6  185750        종근당   40293.666667  100500\n",
      "7  192400    쿠쿠홀딩스  179204.666667  177500\n",
      "8  199800          툴젠   -2514.333333  115400\n",
      "9  204210  모두투어리츠    3093.333333    3475\n",
      "       id              name           eps     bps        per       pbr\n",
      "0  130960            CJ E&M   6301.333333   54068  15.695091  1.829178\n",
      "1  136480              하림    274.166667    3551  11.489362  0.887074\n",
      "2  138040    메리츠금융지주   2122.333333   14894   6.313806  0.899691\n",
      "3  139480            이마트  18268.166667  295780  13.931338  0.860437\n",
      "4  145990            삼양사   5741.000000  108090  14.283226  0.758627\n",
      "5  161390        한국타이어   5648.500000   51341   7.453306  0.820007\n",
      "6  181710   NHN엔터테인먼트   2110.166667   78434  30.755864  0.827447\n",
      "7  185750            종근당   3990.333333   40684  25.185866  2.470259\n",
      "8  204210      모두투어리츠     85.166667    5335  40.802348  0.651359\n",
      "9  207940  삼성바이오로직스   4644.166667   60099  89.790059  6.938551\n"
     ]
    }
   ],
   "source": [
    "#Ipython 디스플레이 설정 변경\n",
    "pd.set_option('display.max_columns', 10)         #출력할 최대 열의 개수\n",
    "pd.set_option('display.max_colwidth', 20)        #출력할 열의 너비\n",
    "pd.set_option('display.unicode.east_asian_width', True)   #유니코드 사용 너비 조정\n",
    "\n",
    "# 주식 데이터를 가져와서 데이터프레임 만들기\n",
    "df1 = pd.read_excel('데이터분석책/part6/stock price.xlsx', engine= 'openpyxl')\n",
    "df2 = pd.read_excel('데이터분석책/part6/stock valuation.xlsx', engine= 'openpyxl')\n",
    "\n",
    "print(df1)\n",
    "print(df2)"
   ]
  },
  {
   "cell_type": "code",
   "execution_count": 6,
   "id": "a01fa1e8",
   "metadata": {},
   "outputs": [
    {
     "name": "stdout",
     "output_type": "stream",
     "text": [
      "       id    stock_name          value   price          name           eps  \\\n",
      "0  130960        CJ E&M   58540.666667   98900        CJ E&M   6301.333333   \n",
      "1  139480        이마트  239230.833333  254500        이마트  18268.166667   \n",
      "2  145990        삼양사   82750.000000   82000        삼양사   5741.000000   \n",
      "3  185750        종근당   40293.666667  100500        종근당   3990.333333   \n",
      "4  204210  모두투어리츠    3093.333333    3475  모두투어리츠     85.166667   \n",
      "\n",
      "      bps        per       pbr  \n",
      "0   54068  15.695091  1.829178  \n",
      "1  295780  13.931338  0.860437  \n",
      "2  108090  14.283226  0.758627  \n",
      "3   40684  25.185866  2.470259  \n",
      "4    5335  40.802348  0.651359  \n"
     ]
    }
   ],
   "source": [
    "#데이터프레임 합치기 - 교집합\n",
    "merge_inner = pd.merge(df1, df2)    #on=None, how=inner 옵션이 기본값 \n",
    "print(merge_inner)"
   ]
  },
  {
   "cell_type": "code",
   "execution_count": 10,
   "id": "2eecd18b",
   "metadata": {},
   "outputs": [
    {
     "name": "stdout",
     "output_type": "stream",
     "text": [
      "        id    stock_name          value     price              name  \\\n",
      "0   128940      한미약품   59385.666667  421000.0               NaN   \n",
      "1   130960        CJ E&M   58540.666667   98900.0            CJ E&M   \n",
      "2   138250    엔에스쇼핑   14558.666667   13200.0               NaN   \n",
      "3   139480        이마트  239230.833333  254500.0            이마트   \n",
      "4   142280  녹십자엠에스     468.833333   10200.0               NaN   \n",
      "5   145990        삼양사   82750.000000   82000.0            삼양사   \n",
      "6   185750        종근당   40293.666667  100500.0            종근당   \n",
      "7   192400    쿠쿠홀딩스  179204.666667  177500.0               NaN   \n",
      "8   199800          툴젠   -2514.333333  115400.0               NaN   \n",
      "9   204210  모두투어리츠    3093.333333    3475.0      모두투어리츠   \n",
      "10  136480           NaN            NaN       NaN              하림   \n",
      "11  138040           NaN            NaN       NaN    메리츠금융지주   \n",
      "12  161390           NaN            NaN       NaN        한국타이어   \n",
      "13  181710           NaN            NaN       NaN   NHN엔터테인먼트   \n",
      "14  207940           NaN            NaN       NaN  삼성바이오로직스   \n",
      "\n",
      "             eps       bps        per       pbr  \n",
      "0            NaN       NaN        NaN       NaN  \n",
      "1    6301.333333   54068.0  15.695091  1.829178  \n",
      "2            NaN       NaN        NaN       NaN  \n",
      "3   18268.166667  295780.0  13.931338  0.860437  \n",
      "4            NaN       NaN        NaN       NaN  \n",
      "5    5741.000000  108090.0  14.283226  0.758627  \n",
      "6    3990.333333   40684.0  25.185866  2.470259  \n",
      "7            NaN       NaN        NaN       NaN  \n",
      "8            NaN       NaN        NaN       NaN  \n",
      "9      85.166667    5335.0  40.802348  0.651359  \n",
      "10    274.166667    3551.0  11.489362  0.887074  \n",
      "11   2122.333333   14894.0   6.313806  0.899691  \n",
      "12   5648.500000   51341.0   7.453306  0.820007  \n",
      "13   2110.166667   78434.0  30.755864  0.827447  \n",
      "14   4644.166667   60099.0  89.790059  6.938551  \n"
     ]
    }
   ],
   "source": [
    "#데이터프레임 합치기 - 합집합\n",
    "merge_outer = pd.merge(df1,df2, how='outer', on='id')\n",
    "print(merge_outer)"
   ]
  },
  {
   "cell_type": "code",
   "execution_count": 11,
   "id": "ab0cba4e",
   "metadata": {},
   "outputs": [
    {
     "name": "stdout",
     "output_type": "stream",
     "text": [
      "     id_x    stock_name          value   price      id_y          name  \\\n",
      "0  128940      한미약품   59385.666667  421000       NaN           NaN   \n",
      "1  130960        CJ E&M   58540.666667   98900  130960.0        CJ E&M   \n",
      "2  138250    엔에스쇼핑   14558.666667   13200       NaN           NaN   \n",
      "3  139480        이마트  239230.833333  254500  139480.0        이마트   \n",
      "4  142280  녹십자엠에스     468.833333   10200       NaN           NaN   \n",
      "5  145990        삼양사   82750.000000   82000  145990.0        삼양사   \n",
      "6  185750        종근당   40293.666667  100500  185750.0        종근당   \n",
      "7  192400    쿠쿠홀딩스  179204.666667  177500       NaN           NaN   \n",
      "8  199800          툴젠   -2514.333333  115400       NaN           NaN   \n",
      "9  204210  모두투어리츠    3093.333333    3475  204210.0  모두투어리츠   \n",
      "\n",
      "            eps       bps        per       pbr  \n",
      "0           NaN       NaN        NaN       NaN  \n",
      "1   6301.333333   54068.0  15.695091  1.829178  \n",
      "2           NaN       NaN        NaN       NaN  \n",
      "3  18268.166667  295780.0  13.931338  0.860437  \n",
      "4           NaN       NaN        NaN       NaN  \n",
      "5   5741.000000  108090.0  14.283226  0.758627  \n",
      "6   3990.333333   40684.0  25.185866  2.470259  \n",
      "7           NaN       NaN        NaN       NaN  \n",
      "8           NaN       NaN        NaN       NaN  \n",
      "9     85.166667    5335.0  40.802348  0.651359  \n"
     ]
    }
   ],
   "source": [
    "#데이터프레임 합치기 - 왼쪽 데이터프레임 기준, 키 값 분리\n",
    "merge_left = pd.merge(df1,df2, how='left', left_on='stock_name', right_on='name')\n",
    "print(merge_left)"
   ]
  },
  {
   "cell_type": "code",
   "execution_count": 13,
   "id": "fae553fe",
   "metadata": {},
   "outputs": [
    {
     "name": "stdout",
     "output_type": "stream",
     "text": [
      "       id_x    stock_name          value     price    id_y              name  \\\n",
      "0  130960.0        CJ E&M   58540.666667   98900.0  130960            CJ E&M   \n",
      "1       NaN           NaN            NaN       NaN  136480              하림   \n",
      "2       NaN           NaN            NaN       NaN  138040    메리츠금융지주   \n",
      "3  139480.0        이마트  239230.833333  254500.0  139480            이마트   \n",
      "4  145990.0        삼양사   82750.000000   82000.0  145990            삼양사   \n",
      "5       NaN           NaN            NaN       NaN  161390        한국타이어   \n",
      "6       NaN           NaN            NaN       NaN  181710   NHN엔터테인먼트   \n",
      "7  185750.0        종근당   40293.666667  100500.0  185750            종근당   \n",
      "8  204210.0  모두투어리츠    3093.333333    3475.0  204210      모두투어리츠   \n",
      "9       NaN           NaN            NaN       NaN  207940  삼성바이오로직스   \n",
      "\n",
      "            eps     bps        per       pbr  \n",
      "0   6301.333333   54068  15.695091  1.829178  \n",
      "1    274.166667    3551  11.489362  0.887074  \n",
      "2   2122.333333   14894   6.313806  0.899691  \n",
      "3  18268.166667  295780  13.931338  0.860437  \n",
      "4   5741.000000  108090  14.283226  0.758627  \n",
      "5   5648.500000   51341   7.453306  0.820007  \n",
      "6   2110.166667   78434  30.755864  0.827447  \n",
      "7   3990.333333   40684  25.185866  2.470259  \n",
      "8     85.166667    5335  40.802348  0.651359  \n",
      "9   4644.166667   60099  89.790059  6.938551  \n"
     ]
    }
   ],
   "source": [
    "#데이터프레임 합치기 - 오른쪽 데이터프레임 기준, 키 값 분리\n",
    "merge_right = pd.merge(df1,df2, how='right', left_on='stock_name', right_on='name')\n",
    "print(merge_right)"
   ]
  },
  {
   "cell_type": "code",
   "execution_count": 15,
   "id": "e85cc42c",
   "metadata": {},
   "outputs": [
    {
     "name": "stdout",
     "output_type": "stream",
     "text": [
      "       id    stock_name         value  price\n",
      "2  138250    엔에스쇼핑  14558.666667  13200\n",
      "4  142280  녹십자엠에스    468.833333  10200\n",
      "9  204210  모두투어리츠   3093.333333   3475\n",
      "\n",
      "\n",
      "       id    stock_name        value  price          name        eps   bps  \\\n",
      "0  204210  모두투어리츠  3093.333333   3475  모두투어리츠  85.166667  5335   \n",
      "\n",
      "         per       pbr  \n",
      "0  40.802348  0.651359  \n"
     ]
    }
   ],
   "source": [
    "# 불린 인덱싱과 결합하여 원하는 데이터 찾기\n",
    "price = df1[df1['price'] < 50000]\n",
    "print(price.head())\n",
    "print('\\n')\n",
    "\n",
    "value = pd.merge(price,df2)\n",
    "print(value)"
   ]
  },
  {
   "cell_type": "markdown",
   "id": "0c72fb84",
   "metadata": {},
   "source": [
    "#### 데이터프레임 결합(join() 함수)"
   ]
  },
  {
   "cell_type": "code",
   "execution_count": 18,
   "id": "f138cda9",
   "metadata": {},
   "outputs": [
    {
     "name": "stdout",
     "output_type": "stream",
     "text": [
      "          stock_name          value   price\n",
      "id                                         \n",
      "128940      한미약품   59385.666667  421000\n",
      "130960        CJ E&M   58540.666667   98900\n",
      "138250    엔에스쇼핑   14558.666667   13200\n",
      "139480        이마트  239230.833333  254500\n",
      "142280  녹십자엠에스     468.833333   10200\n",
      "145990        삼양사   82750.000000   82000\n",
      "185750        종근당   40293.666667  100500\n",
      "192400    쿠쿠홀딩스  179204.666667  177500\n",
      "199800          툴젠   -2514.333333  115400\n",
      "204210  모두투어리츠    3093.333333    3475\n",
      "                    name           eps     bps        per       pbr\n",
      "id                                                                 \n",
      "130960            CJ E&M   6301.333333   54068  15.695091  1.829178\n",
      "136480              하림    274.166667    3551  11.489362  0.887074\n",
      "138040    메리츠금융지주   2122.333333   14894   6.313806  0.899691\n",
      "139480            이마트  18268.166667  295780  13.931338  0.860437\n",
      "145990            삼양사   5741.000000  108090  14.283226  0.758627\n",
      "161390        한국타이어   5648.500000   51341   7.453306  0.820007\n",
      "181710   NHN엔터테인먼트   2110.166667   78434  30.755864  0.827447\n",
      "185750            종근당   3990.333333   40684  25.185866  2.470259\n",
      "204210      모두투어리츠     85.166667    5335  40.802348  0.651359\n",
      "207940  삼성바이오로직스   4644.166667   60099  89.790059  6.938551\n"
     ]
    }
   ],
   "source": [
    "#Ipython 디스플레이 설정 변경\n",
    "pd.set_option('display.max_columns', 10)         #출력할 최대 열의 개수\n",
    "pd.set_option('display.max_colwidth', 20)        #출력할 열의 너비\n",
    "pd.set_option('display.unicode.east_asian_width', True)   #유니코드 사용 너비 조정\n",
    "\n",
    "# 주식 데이터를 가져와서 데이터프레임 만들기\n",
    "df1 = pd.read_excel('데이터분석책/part6/stock price.xlsx', index_col='id', engine= 'openpyxl')\n",
    "df2 = pd.read_excel('데이터분석책/part6/stock valuation.xlsx', index_col='id',engine= 'openpyxl')\n",
    "\n",
    "print(df1)\n",
    "print(df2)"
   ]
  },
  {
   "cell_type": "code",
   "execution_count": 22,
   "id": "06cd3222",
   "metadata": {},
   "outputs": [
    {
     "data": {
      "text/html": [
       "<div>\n",
       "<style scoped>\n",
       "    .dataframe tbody tr th:only-of-type {\n",
       "        vertical-align: middle;\n",
       "    }\n",
       "\n",
       "    .dataframe tbody tr th {\n",
       "        vertical-align: top;\n",
       "    }\n",
       "\n",
       "    .dataframe thead th {\n",
       "        text-align: right;\n",
       "    }\n",
       "</style>\n",
       "<table border=\"1\" class=\"dataframe\">\n",
       "  <thead>\n",
       "    <tr style=\"text-align: right;\">\n",
       "      <th></th>\n",
       "      <th>stock_name</th>\n",
       "      <th>value</th>\n",
       "      <th>price</th>\n",
       "      <th>name</th>\n",
       "      <th>eps</th>\n",
       "      <th>bps</th>\n",
       "      <th>per</th>\n",
       "      <th>pbr</th>\n",
       "    </tr>\n",
       "    <tr>\n",
       "      <th>id</th>\n",
       "      <th></th>\n",
       "      <th></th>\n",
       "      <th></th>\n",
       "      <th></th>\n",
       "      <th></th>\n",
       "      <th></th>\n",
       "      <th></th>\n",
       "      <th></th>\n",
       "    </tr>\n",
       "  </thead>\n",
       "  <tbody>\n",
       "    <tr>\n",
       "      <th>128940</th>\n",
       "      <td>한미약품</td>\n",
       "      <td>59385.666667</td>\n",
       "      <td>421000</td>\n",
       "      <td>NaN</td>\n",
       "      <td>NaN</td>\n",
       "      <td>NaN</td>\n",
       "      <td>NaN</td>\n",
       "      <td>NaN</td>\n",
       "    </tr>\n",
       "    <tr>\n",
       "      <th>130960</th>\n",
       "      <td>CJ E&amp;M</td>\n",
       "      <td>58540.666667</td>\n",
       "      <td>98900</td>\n",
       "      <td>CJ E&amp;M</td>\n",
       "      <td>6301.333333</td>\n",
       "      <td>54068.0</td>\n",
       "      <td>15.695091</td>\n",
       "      <td>1.829178</td>\n",
       "    </tr>\n",
       "    <tr>\n",
       "      <th>138250</th>\n",
       "      <td>엔에스쇼핑</td>\n",
       "      <td>14558.666667</td>\n",
       "      <td>13200</td>\n",
       "      <td>NaN</td>\n",
       "      <td>NaN</td>\n",
       "      <td>NaN</td>\n",
       "      <td>NaN</td>\n",
       "      <td>NaN</td>\n",
       "    </tr>\n",
       "    <tr>\n",
       "      <th>139480</th>\n",
       "      <td>이마트</td>\n",
       "      <td>239230.833333</td>\n",
       "      <td>254500</td>\n",
       "      <td>이마트</td>\n",
       "      <td>18268.166667</td>\n",
       "      <td>295780.0</td>\n",
       "      <td>13.931338</td>\n",
       "      <td>0.860437</td>\n",
       "    </tr>\n",
       "    <tr>\n",
       "      <th>142280</th>\n",
       "      <td>녹십자엠에스</td>\n",
       "      <td>468.833333</td>\n",
       "      <td>10200</td>\n",
       "      <td>NaN</td>\n",
       "      <td>NaN</td>\n",
       "      <td>NaN</td>\n",
       "      <td>NaN</td>\n",
       "      <td>NaN</td>\n",
       "    </tr>\n",
       "    <tr>\n",
       "      <th>145990</th>\n",
       "      <td>삼양사</td>\n",
       "      <td>82750.000000</td>\n",
       "      <td>82000</td>\n",
       "      <td>삼양사</td>\n",
       "      <td>5741.000000</td>\n",
       "      <td>108090.0</td>\n",
       "      <td>14.283226</td>\n",
       "      <td>0.758627</td>\n",
       "    </tr>\n",
       "    <tr>\n",
       "      <th>185750</th>\n",
       "      <td>종근당</td>\n",
       "      <td>40293.666667</td>\n",
       "      <td>100500</td>\n",
       "      <td>종근당</td>\n",
       "      <td>3990.333333</td>\n",
       "      <td>40684.0</td>\n",
       "      <td>25.185866</td>\n",
       "      <td>2.470259</td>\n",
       "    </tr>\n",
       "    <tr>\n",
       "      <th>192400</th>\n",
       "      <td>쿠쿠홀딩스</td>\n",
       "      <td>179204.666667</td>\n",
       "      <td>177500</td>\n",
       "      <td>NaN</td>\n",
       "      <td>NaN</td>\n",
       "      <td>NaN</td>\n",
       "      <td>NaN</td>\n",
       "      <td>NaN</td>\n",
       "    </tr>\n",
       "    <tr>\n",
       "      <th>199800</th>\n",
       "      <td>툴젠</td>\n",
       "      <td>-2514.333333</td>\n",
       "      <td>115400</td>\n",
       "      <td>NaN</td>\n",
       "      <td>NaN</td>\n",
       "      <td>NaN</td>\n",
       "      <td>NaN</td>\n",
       "      <td>NaN</td>\n",
       "    </tr>\n",
       "    <tr>\n",
       "      <th>204210</th>\n",
       "      <td>모두투어리츠</td>\n",
       "      <td>3093.333333</td>\n",
       "      <td>3475</td>\n",
       "      <td>모두투어리츠</td>\n",
       "      <td>85.166667</td>\n",
       "      <td>5335.0</td>\n",
       "      <td>40.802348</td>\n",
       "      <td>0.651359</td>\n",
       "    </tr>\n",
       "  </tbody>\n",
       "</table>\n",
       "</div>"
      ],
      "text/plain": [
       "          stock_name          value   price          name           eps  \\\n",
       "id                                                                        \n",
       "128940      한미약품   59385.666667  421000           NaN           NaN   \n",
       "130960        CJ E&M   58540.666667   98900        CJ E&M   6301.333333   \n",
       "138250    엔에스쇼핑   14558.666667   13200           NaN           NaN   \n",
       "139480        이마트  239230.833333  254500        이마트  18268.166667   \n",
       "142280  녹십자엠에스     468.833333   10200           NaN           NaN   \n",
       "145990        삼양사   82750.000000   82000        삼양사   5741.000000   \n",
       "185750        종근당   40293.666667  100500        종근당   3990.333333   \n",
       "192400    쿠쿠홀딩스  179204.666667  177500           NaN           NaN   \n",
       "199800          툴젠   -2514.333333  115400           NaN           NaN   \n",
       "204210  모두투어리츠    3093.333333    3475  모두투어리츠     85.166667   \n",
       "\n",
       "             bps        per       pbr  \n",
       "id                                     \n",
       "128940       NaN        NaN       NaN  \n",
       "130960   54068.0  15.695091  1.829178  \n",
       "138250       NaN        NaN       NaN  \n",
       "139480  295780.0  13.931338  0.860437  \n",
       "142280       NaN        NaN       NaN  \n",
       "145990  108090.0  14.283226  0.758627  \n",
       "185750   40684.0  25.185866  2.470259  \n",
       "192400       NaN        NaN       NaN  \n",
       "199800       NaN        NaN       NaN  \n",
       "204210    5335.0  40.802348  0.651359  "
      ]
     },
     "execution_count": 22,
     "metadata": {},
     "output_type": "execute_result"
    }
   ],
   "source": [
    "#데이터프레임 결합\n",
    "df3 = df1.join(df2)\n",
    "df3"
   ]
  },
  {
   "cell_type": "code",
   "execution_count": 23,
   "id": "a579782c",
   "metadata": {},
   "outputs": [
    {
     "data": {
      "text/html": [
       "<div>\n",
       "<style scoped>\n",
       "    .dataframe tbody tr th:only-of-type {\n",
       "        vertical-align: middle;\n",
       "    }\n",
       "\n",
       "    .dataframe tbody tr th {\n",
       "        vertical-align: top;\n",
       "    }\n",
       "\n",
       "    .dataframe thead th {\n",
       "        text-align: right;\n",
       "    }\n",
       "</style>\n",
       "<table border=\"1\" class=\"dataframe\">\n",
       "  <thead>\n",
       "    <tr style=\"text-align: right;\">\n",
       "      <th></th>\n",
       "      <th>stock_name</th>\n",
       "      <th>value</th>\n",
       "      <th>price</th>\n",
       "      <th>name</th>\n",
       "      <th>eps</th>\n",
       "      <th>bps</th>\n",
       "      <th>per</th>\n",
       "      <th>pbr</th>\n",
       "    </tr>\n",
       "    <tr>\n",
       "      <th>id</th>\n",
       "      <th></th>\n",
       "      <th></th>\n",
       "      <th></th>\n",
       "      <th></th>\n",
       "      <th></th>\n",
       "      <th></th>\n",
       "      <th></th>\n",
       "      <th></th>\n",
       "    </tr>\n",
       "  </thead>\n",
       "  <tbody>\n",
       "    <tr>\n",
       "      <th>130960</th>\n",
       "      <td>CJ E&amp;M</td>\n",
       "      <td>58540.666667</td>\n",
       "      <td>98900</td>\n",
       "      <td>CJ E&amp;M</td>\n",
       "      <td>6301.333333</td>\n",
       "      <td>54068</td>\n",
       "      <td>15.695091</td>\n",
       "      <td>1.829178</td>\n",
       "    </tr>\n",
       "    <tr>\n",
       "      <th>139480</th>\n",
       "      <td>이마트</td>\n",
       "      <td>239230.833333</td>\n",
       "      <td>254500</td>\n",
       "      <td>이마트</td>\n",
       "      <td>18268.166667</td>\n",
       "      <td>295780</td>\n",
       "      <td>13.931338</td>\n",
       "      <td>0.860437</td>\n",
       "    </tr>\n",
       "    <tr>\n",
       "      <th>145990</th>\n",
       "      <td>삼양사</td>\n",
       "      <td>82750.000000</td>\n",
       "      <td>82000</td>\n",
       "      <td>삼양사</td>\n",
       "      <td>5741.000000</td>\n",
       "      <td>108090</td>\n",
       "      <td>14.283226</td>\n",
       "      <td>0.758627</td>\n",
       "    </tr>\n",
       "    <tr>\n",
       "      <th>185750</th>\n",
       "      <td>종근당</td>\n",
       "      <td>40293.666667</td>\n",
       "      <td>100500</td>\n",
       "      <td>종근당</td>\n",
       "      <td>3990.333333</td>\n",
       "      <td>40684</td>\n",
       "      <td>25.185866</td>\n",
       "      <td>2.470259</td>\n",
       "    </tr>\n",
       "    <tr>\n",
       "      <th>204210</th>\n",
       "      <td>모두투어리츠</td>\n",
       "      <td>3093.333333</td>\n",
       "      <td>3475</td>\n",
       "      <td>모두투어리츠</td>\n",
       "      <td>85.166667</td>\n",
       "      <td>5335</td>\n",
       "      <td>40.802348</td>\n",
       "      <td>0.651359</td>\n",
       "    </tr>\n",
       "  </tbody>\n",
       "</table>\n",
       "</div>"
      ],
      "text/plain": [
       "          stock_name          value   price          name           eps  \\\n",
       "id                                                                        \n",
       "130960        CJ E&M   58540.666667   98900        CJ E&M   6301.333333   \n",
       "139480        이마트  239230.833333  254500        이마트  18268.166667   \n",
       "145990        삼양사   82750.000000   82000        삼양사   5741.000000   \n",
       "185750        종근당   40293.666667  100500        종근당   3990.333333   \n",
       "204210  모두투어리츠    3093.333333    3475  모두투어리츠     85.166667   \n",
       "\n",
       "           bps        per       pbr  \n",
       "id                                   \n",
       "130960   54068  15.695091  1.829178  \n",
       "139480  295780  13.931338  0.860437  \n",
       "145990  108090  14.283226  0.758627  \n",
       "185750   40684  25.185866  2.470259  \n",
       "204210    5335  40.802348  0.651359  "
      ]
     },
     "execution_count": 23,
     "metadata": {},
     "output_type": "execute_result"
    }
   ],
   "source": [
    "#데이터프레임 결합(join) -  교집합\n",
    "df4 = df1.join(df2, how='inner')   #공통인행 출력\n",
    "df4"
   ]
  }
 ],
 "metadata": {
  "kernelspec": {
   "display_name": "Python 3 (ipykernel)",
   "language": "python",
   "name": "python3"
  },
  "language_info": {
   "codemirror_mode": {
    "name": "ipython",
    "version": 3
   },
   "file_extension": ".py",
   "mimetype": "text/x-python",
   "name": "python",
   "nbconvert_exporter": "python",
   "pygments_lexer": "ipython3",
   "version": "3.9.13"
  }
 },
 "nbformat": 4,
 "nbformat_minor": 5
}
