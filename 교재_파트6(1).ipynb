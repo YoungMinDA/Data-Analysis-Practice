{
 "cells": [
  {
   "cell_type": "markdown",
   "id": "1a358ce4",
   "metadata": {},
   "source": [
    "## 함수 매핑"
   ]
  },
  {
   "cell_type": "markdown",
   "id": "9da957cd",
   "metadata": {},
   "source": [
    "#### 개별 원소에 함수 매핑"
   ]
  },
  {
   "cell_type": "code",
   "execution_count": 2,
   "id": "01f9c715",
   "metadata": {},
   "outputs": [],
   "source": [
    "import pandas as pd\n",
    "import numpy as np\n",
    "import seaborn as sns"
   ]
  },
  {
   "cell_type": "code",
   "execution_count": 4,
   "id": "4492ddc3",
   "metadata": {},
   "outputs": [
    {
     "name": "stdout",
     "output_type": "stream",
     "text": [
      "    age     fare  ten\n",
      "0  22.0   7.2500   10\n",
      "1  38.0  71.2833   10\n",
      "2  26.0   7.9250   10\n",
      "3  35.0  53.1000   10\n",
      "4  35.0   8.0500   10\n"
     ]
    }
   ],
   "source": [
    "#시리즈 원소에 함수 매핑\n",
    "#타이타닉 데이터셋에서 age,fare, 2개 열을 선택하여 데이터프레임 만들기\n",
    "titanic = sns.load_dataset('titanic')\n",
    "df = titanic.loc[:, ['age','fare']]  #2개 열 선택\n",
    "df['ten'] = 10\n",
    "print(df.head())"
   ]
  },
  {
   "cell_type": "code",
   "execution_count": 5,
   "id": "e1cd7f50",
   "metadata": {},
   "outputs": [
    {
     "name": "stdout",
     "output_type": "stream",
     "text": [
      "20\n",
      "20\n"
     ]
    }
   ],
   "source": [
    "#사용자 함수 정의\n",
    "def add_10(n): #10을 더하는 함수\n",
    "    return n + 10\n",
    "\n",
    "def add_two_obj(a,b): #두 객체의 합\n",
    "    return a + b\n",
    "\n",
    "print(add_10(10))\n",
    "print(add_two_obj(10,10))"
   ]
  },
  {
   "cell_type": "code",
   "execution_count": 7,
   "id": "d5ee107b",
   "metadata": {},
   "outputs": [
    {
     "name": "stdout",
     "output_type": "stream",
     "text": [
      "0    32.0\n",
      "1    48.0\n",
      "2    36.0\n",
      "3    45.0\n",
      "4    45.0\n",
      "Name: age, dtype: float64\n"
     ]
    }
   ],
   "source": [
    "#시리즈 객체에 적용\n",
    "sr1 = df['age'].apply(add_10)                 # n = df['age']의 모든 원소\n",
    "print(sr1.head())"
   ]
  },
  {
   "cell_type": "code",
   "execution_count": 8,
   "id": "b3b841c2",
   "metadata": {},
   "outputs": [
    {
     "name": "stdout",
     "output_type": "stream",
     "text": [
      "0    32.0\n",
      "1    48.0\n",
      "2    36.0\n",
      "3    45.0\n",
      "4    45.0\n",
      "Name: age, dtype: float64\n"
     ]
    }
   ],
   "source": [
    "#시리즈 객체와 숫자에 적용: 2개의 인수(시리즈+숫자)\n",
    "sr2 = df['age'].apply(add_two_obj, b=10)    #a=df['age']의 모든 원소, b=10\n",
    "print(sr2.head())"
   ]
  },
  {
   "cell_type": "code",
   "execution_count": 11,
   "id": "a0531790",
   "metadata": {},
   "outputs": [
    {
     "name": "stdout",
     "output_type": "stream",
     "text": [
      "0    32.0\n",
      "1    48.0\n",
      "2    36.0\n",
      "3    45.0\n",
      "4    45.0\n",
      "Name: age, dtype: float64\n"
     ]
    }
   ],
   "source": [
    "#lambda 함수 활용: 시리즈 객체에 적용\n",
    "sr3 = df['age'].apply(lambda x: add_10(x))    #a=df['age']\n",
    "print(sr3.head())"
   ]
  },
  {
   "cell_type": "markdown",
   "id": "d7b7bbac",
   "metadata": {},
   "source": [
    "#### 데이터프레임 원소에 함수 매핑"
   ]
  },
  {
   "cell_type": "code",
   "execution_count": 16,
   "id": "9fa022ce",
   "metadata": {},
   "outputs": [
    {
     "name": "stdout",
     "output_type": "stream",
     "text": [
      "    age     fare\n",
      "0  22.0   7.2500\n",
      "1  38.0  71.2833\n",
      "2  26.0   7.9250\n",
      "3  35.0  53.1000\n",
      "4  35.0   8.0500\n",
      "    age     fare\n",
      "0  32.0  17.2500\n",
      "1  48.0  81.2833\n",
      "2  36.0  17.9250\n",
      "3  45.0  63.1000\n",
      "4  45.0  18.0500\n"
     ]
    }
   ],
   "source": [
    "titanic = sns.load_dataset('titanic')\n",
    "df = titanic.loc[:, ['age','fare']]  #2개 열 선택\n",
    "print(df.head())\n",
    "\n",
    "#사용자 함수 정의\n",
    "def add_10(n):\n",
    "    return n + 10\n",
    "\n",
    "# 데이터프레임에 add_10() 함수를 매핑 적용, applymap()\n",
    "df_map = df.applymap(add_10)\n",
    "print(df_map.head())"
   ]
  },
  {
   "cell_type": "markdown",
   "id": "0913254e",
   "metadata": {},
   "source": [
    "#### 시리즈 객체에 함수 매핑"
   ]
  },
  {
   "cell_type": "code",
   "execution_count": 18,
   "id": "3e4b7fb5",
   "metadata": {},
   "outputs": [
    {
     "name": "stdout",
     "output_type": "stream",
     "text": [
      "    age     fare\n",
      "0  22.0   7.2500\n",
      "1  38.0  71.2833\n",
      "2  26.0   7.9250\n",
      "3  35.0  53.1000\n",
      "4  35.0   8.0500\n"
     ]
    }
   ],
   "source": [
    "#데이터프레임의 각 열에 함수 매핑\n",
    "titanic = sns.load_dataset('titanic')\n",
    "df = titanic.loc[:, ['age','fare']]\n",
    "print(df.head())"
   ]
  },
  {
   "cell_type": "code",
   "execution_count": 20,
   "id": "d9a43048",
   "metadata": {},
   "outputs": [
    {
     "name": "stdout",
     "output_type": "stream",
     "text": [
      "     age   fare\n",
      "0  False  False\n",
      "1  False  False\n",
      "2  False  False\n",
      "3  False  False\n",
      "4  False  False\n",
      "\n",
      "\n",
      "<class 'pandas.core.frame.DataFrame'>\n"
     ]
    }
   ],
   "source": [
    "#사용자 함수 정의\n",
    "def missing_value(series):      #시리즈를 인자로 전달\n",
    "    return series.isnull()      #불린 시리즈를 반환\n",
    "\n",
    "#데이터프레임에 apply 메소드를 적용\n",
    "result = df.apply(missing_value, axis=0)\n",
    "print(result.head())\n",
    "print('\\n')\n",
    "print(type(result))"
   ]
  },
  {
   "cell_type": "code",
   "execution_count": 27,
   "id": "8969d990",
   "metadata": {},
   "outputs": [
    {
     "name": "stdout",
     "output_type": "stream",
     "text": [
      "    age     fare\n",
      "0  22.0   7.2500\n",
      "1  38.0  71.2833\n",
      "2  26.0   7.9250\n",
      "3  35.0  53.1000\n",
      "4  35.0   8.0500\n",
      "\n",
      "\n"
     ]
    }
   ],
   "source": [
    "titanic = sns.load_dataset('titanic')\n",
    "df = titanic.loc[:, ['age','fare']]\n",
    "print(df.head())\n",
    "print('\\n')\n",
    "\n",
    "#사용자 함수 정의\n",
    "def min_max(x):             #최대값 - 최소값\n",
    "    return x.max() - x.min()"
   ]
  },
  {
   "cell_type": "code",
   "execution_count": 28,
   "id": "ab925181",
   "metadata": {},
   "outputs": [
    {
     "name": "stdout",
     "output_type": "stream",
     "text": [
      "age      79.5800\n",
      "fare    512.3292\n",
      "dtype: float64\n",
      "\n",
      "\n",
      "<class 'pandas.core.series.Series'>\n"
     ]
    }
   ],
   "source": [
    "#데이터프레임에 apply 메소드를 적용\n",
    "result = df.apply(min_max)   #axis=0\n",
    "print(result)\n",
    "print('\\n')\n",
    "print(type(result))"
   ]
  },
  {
   "cell_type": "markdown",
   "id": "e48b9752",
   "metadata": {},
   "source": [
    "#### 데이터프레임의 각 행에 함수 매핑"
   ]
  },
  {
   "cell_type": "code",
   "execution_count": 29,
   "id": "2e30e2fe",
   "metadata": {},
   "outputs": [
    {
     "name": "stdout",
     "output_type": "stream",
     "text": [
      "    age     fare  ten\n",
      "0  22.0   7.2500   10\n",
      "1  38.0  71.2833   10\n",
      "2  26.0   7.9250   10\n",
      "3  35.0  53.1000   10\n",
      "4  35.0   8.0500   10\n"
     ]
    }
   ],
   "source": [
    "#타이타닉 데이터셋에서 age,fare, 2개 열을 선택하여 데이터프레임 만들기\n",
    "titanic = sns.load_dataset('titanic')\n",
    "df = titanic.loc[:, ['age','fare']]  #2개 열 선택\n",
    "df['ten'] = 10\n",
    "print(df.head())"
   ]
  },
  {
   "cell_type": "code",
   "execution_count": 30,
   "id": "ab10666c",
   "metadata": {},
   "outputs": [],
   "source": [
    "#사용자 함수 정의\n",
    "def add_two_obj(a,b): #두 객체의 합\n",
    "    return a + b"
   ]
  },
  {
   "cell_type": "code",
   "execution_count": 31,
   "id": "c068e4b4",
   "metadata": {},
   "outputs": [
    {
     "name": "stdout",
     "output_type": "stream",
     "text": [
      "    age     fare  ten   add\n",
      "0  22.0   7.2500   10  32.0\n",
      "1  38.0  71.2833   10  48.0\n",
      "2  26.0   7.9250   10  36.0\n",
      "3  35.0  53.1000   10  45.0\n",
      "4  35.0   8.0500   10  45.0\n"
     ]
    }
   ],
   "source": [
    "#데이터프레임의 2개 열에 적용\n",
    "# x=df, a=df['age'], b=df['ten']\n",
    "df['add'] = df.apply(lambda x: add_two_obj(x['age'],x['ten']), axis=1)\n",
    "print(df.head())"
   ]
  },
  {
   "cell_type": "markdown",
   "id": "6a0aaf1f",
   "metadata": {},
   "source": [
    "#### 데이터프레임 객체에 함수 매핑"
   ]
  },
  {
   "cell_type": "code",
   "execution_count": 32,
   "id": "af84a2b7",
   "metadata": {},
   "outputs": [],
   "source": [
    "titanic = sns.load_dataset('titanic')\n",
    "df = titanic.loc[:, ['age','fare']]  #2개 열 선택\n",
    "\n",
    "#각 열의 NaN 찾기, 데이터프레임을 전달하면 데이터프레임 반환\n",
    "def missing_value(x):\n",
    "    return x.isnull()\n",
    "\n",
    "#각 열의 NaN 개수 반환 - 데이터프레임을 전달하면 시리즈 반환\n",
    "def missing_count(x):\n",
    "    return missing_value(x).sum()\n",
    "\n",
    "#데이터프레임의 총 NaN 개수 - 데이터프레임을 전달하면 값 반환\n",
    "def total_number_missing(x):\n",
    "    return missing_count(x).sum()"
   ]
  },
  {
   "cell_type": "code",
   "execution_count": 33,
   "id": "747d94a2",
   "metadata": {},
   "outputs": [
    {
     "name": "stdout",
     "output_type": "stream",
     "text": [
      "     age   fare\n",
      "0  False  False\n",
      "1  False  False\n",
      "2  False  False\n",
      "3  False  False\n",
      "4  False  False\n",
      "<class 'pandas.core.frame.DataFrame'>\n"
     ]
    }
   ],
   "source": [
    "#데이터프레임에 함수 매핑\n",
    "result_df = df.pipe(missing_value)\n",
    "print(result_df.head())\n",
    "print(type(result_df))"
   ]
  },
  {
   "cell_type": "code",
   "execution_count": 34,
   "id": "9855b897",
   "metadata": {},
   "outputs": [
    {
     "name": "stdout",
     "output_type": "stream",
     "text": [
      "age     177\n",
      "fare      0\n",
      "dtype: int64\n",
      "<class 'pandas.core.series.Series'>\n"
     ]
    }
   ],
   "source": [
    "result_series = df.pipe(missing_count)\n",
    "print(result_series)\n",
    "print(type(result_series))"
   ]
  },
  {
   "cell_type": "code",
   "execution_count": 36,
   "id": "92894f6f",
   "metadata": {},
   "outputs": [
    {
     "name": "stdout",
     "output_type": "stream",
     "text": [
      "177\n",
      "<class 'numpy.int64'>\n"
     ]
    }
   ],
   "source": [
    "result_value = df.pipe(total_number_missing)\n",
    "print(result_value)\n",
    "print(type(result_value))"
   ]
  }
 ],
 "metadata": {
  "kernelspec": {
   "display_name": "Python 3 (ipykernel)",
   "language": "python",
   "name": "python3"
  },
  "language_info": {
   "codemirror_mode": {
    "name": "ipython",
    "version": 3
   },
   "file_extension": ".py",
   "mimetype": "text/x-python",
   "name": "python",
   "nbconvert_exporter": "python",
   "pygments_lexer": "ipython3",
   "version": "3.9.13"
  }
 },
 "nbformat": 4,
 "nbformat_minor": 5
}
